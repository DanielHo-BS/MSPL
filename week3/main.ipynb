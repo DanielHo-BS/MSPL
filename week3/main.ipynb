{
 "cells": [
  {
   "cell_type": "code",
   "execution_count": 1,
   "id": "f1f66e29",
   "metadata": {},
   "outputs": [
    {
     "name": "stderr",
     "output_type": "stream",
     "text": [
      "C:\\Users\\D\\anaconda3\\envs\\ml\\lib\\site-packages\\numpy\\_distributor_init.py:32: UserWarning: loaded more than 1 DLL from .libs:\n",
      "C:\\Users\\D\\anaconda3\\envs\\ml\\lib\\site-packages\\numpy\\.libs\\libopenblas.NOIJJG62EMASZI6NYURL6JBKM4EVBGM7.gfortran-win_amd64.dll\n",
      "C:\\Users\\D\\anaconda3\\envs\\ml\\lib\\site-packages\\numpy\\.libs\\libopenblas.WCDJNK7YVMPZQ2ME2ZZHJJRJ3JIKNDB7.gfortran-win_amd64.dll\n",
      "  stacklevel=1)\n"
     ]
    }
   ],
   "source": [
    "import torch\n",
    "import torch.nn as nn\n",
    "import torch.nn.functional as F\n",
    "from torch.autograd import Variable\n",
    "from sklearn.model_selection import train_test_split\n",
    "import matplotlib.pyplot as plt"
   ]
  },
  {
   "cell_type": "code",
   "execution_count": 2,
   "id": "0440c778",
   "metadata": {},
   "outputs": [],
   "source": [
    "# Preprocessing\n",
    "# Loading MNIst dataset\n",
    "from keras.datasets import mnist\n",
    "(X_train, Y_train), (X_test, Y_test) = mnist.load_data()\n",
    "\n",
    "# Normalization\n",
    "X_train = X_train.astype('float32') / 255\n",
    "X_test = X_test.astype('float32') / 255\n",
    "\n",
    "# Train : Validation = 8 : 2 \n",
    "features_train, features_valid, targets_train, targets_valid = train_test_split(X_train, Y_train, test_size = 0.2, random_state = 42)\n",
    "\n",
    "# Data's type to tensor\n",
    "featuresTrain = torch.from_numpy(features_train)\n",
    "targetsTrain = torch.from_numpy(targets_train).type(torch.LongTensor) # data type is long\n",
    "featuresValid = torch.from_numpy(features_valid)\n",
    "targetsValid = torch.from_numpy(targets_valid).type(torch.LongTensor) # data type is long\n",
    "featuresTest = torch.from_numpy(X_test)\n",
    "targetsTest = torch.from_numpy(Y_test).type(torch.LongTensor) # data type is long\n",
    "\n",
    "# Pytorch train and test TensorDataset\n",
    "train = torch.utils.data.TensorDataset(featuresTrain,targetsTrain)\n",
    "valid = torch.utils.data.TensorDataset(featuresValid,targetsValid)\n",
    "test = torch.utils.data.TensorDataset(featuresTest,targetsTest)\n",
    "\n",
    "# Hyper Parameters :batch_size, epoch and iteration\n",
    "LR = 0.01\n",
    "batch_size = 100\n",
    "n_iters = 10000\n",
    "num_epochs = n_iters / (len(features_train) / batch_size)\n",
    "num_epochs = int(num_epochs)\n",
    "\n",
    "# Pytorch DataLoader\n",
    "train_loader = torch.utils.data.DataLoader(train, batch_size = batch_size, shuffle = True)\n",
    "valid_loader = torch.utils.data.DataLoader(valid, batch_size = batch_size, shuffle = True)\n",
    "test_loader = torch.utils.data.DataLoader(test, batch_size = batch_size, shuffle = True)"
   ]
  },
  {
   "cell_type": "code",
   "execution_count": 3,
   "id": "a4b773c4",
   "metadata": {},
   "outputs": [],
   "source": [
    "# Create CNN Model\n",
    "class CNN_Model(nn.Module):\n",
    "    def __init__(self):\n",
    "        super(CNN_Model, self).__init__()\n",
    "        # Convolution 1 , input_shape=(1,28,28)\n",
    "        self.cnn1 = nn.Conv2d(in_channels=1, out_channels=16, kernel_size=5, stride=1, padding=0) #output_shape=(16,24,24)\n",
    "        self.relu1 = nn.ReLU() # activation\n",
    "        # Max pool 1\n",
    "        self.maxpool1 = nn.MaxPool2d(kernel_size=2) #output_shape=(16,12,12)\n",
    "        # Convolution 2\n",
    "        self.cnn2 = nn.Conv2d(in_channels=16, out_channels=32, kernel_size=5, stride=1, padding=0) #output_shape=(32,8,8)\n",
    "        self.relu2 = nn.ReLU() # activation\n",
    "        # Max pool 2\n",
    "        self.maxpool2 = nn.MaxPool2d(kernel_size=2) #output_shape=(32,4,4)\n",
    "        # Fully connected 1 ,#input_shape=(32*4*4)\n",
    "        self.fc1 = nn.Linear(32 * 4 * 4, 10) \n",
    "    \n",
    "    def forward(self, x):\n",
    "        # Convolution 1\n",
    "        out = self.cnn1(x)\n",
    "        out = self.relu1(out)\n",
    "        # Max pool 1\n",
    "        out = self.maxpool1(out)\n",
    "        # Convolution 2 \n",
    "        out = self.cnn2(out)\n",
    "        out = self.relu2(out)\n",
    "        # Max pool 2 \n",
    "        out = self.maxpool2(out)\n",
    "        out = out.view(out.size(0), -1)\n",
    "        # Linear function (readout)\n",
    "        out = self.fc1(out)\n",
    "        return out"
   ]
  },
  {
   "cell_type": "code",
   "execution_count": 4,
   "id": "765d6a33",
   "metadata": {},
   "outputs": [
    {
     "name": "stdout",
     "output_type": "stream",
     "text": [
      "CNN_Model(\n",
      "  (cnn1): Conv2d(1, 16, kernel_size=(5, 5), stride=(1, 1))\n",
      "  (relu1): ReLU()\n",
      "  (maxpool1): MaxPool2d(kernel_size=2, stride=2, padding=0, dilation=1, ceil_mode=False)\n",
      "  (cnn2): Conv2d(16, 32, kernel_size=(5, 5), stride=(1, 1))\n",
      "  (relu2): ReLU()\n",
      "  (maxpool2): MaxPool2d(kernel_size=2, stride=2, padding=0, dilation=1, ceil_mode=False)\n",
      "  (fc1): Linear(in_features=512, out_features=10, bias=True)\n",
      ")\n"
     ]
    }
   ],
   "source": [
    "# Build the model\n",
    "model = CNN_Model()\n",
    "print(model)\n",
    "optimizer = torch.optim.Adam(model.parameters(), lr=LR)   # optimize all cnn parameters\n",
    "loss_func = nn.CrossEntropyLoss()   # the target label is not one-hotted\n",
    "input_shape = (-1,1,28,28)    "
   ]
  },
  {
   "cell_type": "code",
   "execution_count": 5,
   "id": "843d22fe",
   "metadata": {},
   "outputs": [],
   "source": [
    "# Traning the Model \n",
    "def fit_model(model, loss_func, optimizer, input_shape, num_epochs, train_loader, vaild_loader):\n",
    "    #history-like list for store loss & acc value\n",
    "    training_loss = []\n",
    "    training_accuracy = []\n",
    "    validation_loss = []\n",
    "    validation_accuracy = []\n",
    "    for epoch in range(num_epochs):\n",
    "        #training model & store loss & acc / epoch\n",
    "        correct_train = 0\n",
    "        total_train = 0\n",
    "        for i, (images, labels) in enumerate(train_loader):\n",
    "            # 1.Define variables\n",
    "            train = Variable(images.view(input_shape))\n",
    "            labels = Variable(labels)\n",
    "            # 2.Clear gradients\n",
    "            optimizer.zero_grad()\n",
    "            # 3.Forward propagation\n",
    "            outputs = model(train)\n",
    "            # 4.Calculate softmax and cross entropy loss\n",
    "            train_loss = loss_func(outputs, labels)\n",
    "            # 5.Calculate gradients\n",
    "            train_loss.backward()\n",
    "            # 6.Update parameters\n",
    "            optimizer.step()\n",
    "            # 7.Get predictions from the maximum value\n",
    "            predicted = torch.max(outputs.data, 1)[1]\n",
    "            # 8.Total number of labels\n",
    "            total_train += len(labels)\n",
    "            # 9.Total correct predictions\n",
    "            correct_train += (predicted == labels).float().sum()\n",
    "        #10.store val_acc / epoch\n",
    "        train_accuracy = 100 * correct_train / float(total_train)\n",
    "        training_accuracy.append(train_accuracy)\n",
    "        # 11.store loss / epoch\n",
    "        training_loss.append(train_loss.data)\n",
    "\n",
    "        #evaluate model & store loss & acc / epoch\n",
    "        correct_test = 0\n",
    "        total_test = 0\n",
    "        for images, labels in vaild_loader:\n",
    "            # 1.Define variables\n",
    "            test = Variable(images.view(input_shape))\n",
    "            # 2.Forward propagation\n",
    "            outputs = model(test)\n",
    "            # 3.Calculate softmax and cross entropy loss\n",
    "            val_loss = loss_func(outputs, labels)\n",
    "            # 4.Get predictions from the maximum value\n",
    "            predicted = torch.max(outputs.data, 1)[1]\n",
    "            # 5.Total number of labels\n",
    "            total_test += len(labels)\n",
    "            # 6.Total correct predictions\n",
    "            correct_test += (predicted == labels).float().sum()\n",
    "        #6.store val_acc / epoch\n",
    "        val_accuracy = 100 * correct_test / float(total_test)\n",
    "        validation_accuracy.append(val_accuracy)\n",
    "        # 11.store val_loss / epoch\n",
    "        validation_loss.append(val_loss.data)\n",
    "        print('Train Epoch: {}/{} Traing_Loss: {} Traing_acc: {:.6f}% Val_Loss: {} Val_accuracy: {:.6f}%'.format(epoch+1, num_epochs, train_loss.data, train_accuracy, val_loss.data, val_accuracy))\n",
    "    return training_loss, training_accuracy, validation_loss, validation_accuracy"
   ]
  },
  {
   "cell_type": "code",
   "execution_count": 6,
   "id": "665b5541",
   "metadata": {},
   "outputs": [
    {
     "name": "stdout",
     "output_type": "stream",
     "text": [
      "Train Epoch: 1/20 Traing_Loss: 0.08435747027397156 Traing_acc: 94.577080% Val_Loss: 0.08535727858543396 Val_accuracy: 98.033333%\n",
      "Train Epoch: 2/20 Traing_Loss: 0.005861655343323946 Traing_acc: 98.093750% Val_Loss: 0.06649206578731537 Val_accuracy: 98.508331%\n",
      "Train Epoch: 3/20 Traing_Loss: 0.06307712942361832 Traing_acc: 98.556252% Val_Loss: 0.024981549009680748 Val_accuracy: 98.158333%\n",
      "Train Epoch: 4/20 Traing_Loss: 0.07864050567150116 Traing_acc: 98.612503% Val_Loss: 0.1689583659172058 Val_accuracy: 98.308334%\n",
      "Train Epoch: 5/20 Traing_Loss: 0.06803229451179504 Traing_acc: 98.691666% Val_Loss: 0.25294584035873413 Val_accuracy: 97.741669%\n",
      "Train Epoch: 6/20 Traing_Loss: 0.026453394442796707 Traing_acc: 98.704170% Val_Loss: 0.03626622259616852 Val_accuracy: 98.141670%\n",
      "Train Epoch: 7/20 Traing_Loss: 0.09034063667058945 Traing_acc: 98.968750% Val_Loss: 0.07986323535442352 Val_accuracy: 98.175003%\n",
      "Train Epoch: 8/20 Traing_Loss: 0.019723353907465935 Traing_acc: 98.872917% Val_Loss: 0.053751859813928604 Val_accuracy: 98.266670%\n",
      "Train Epoch: 9/20 Traing_Loss: 0.0809938982129097 Traing_acc: 98.997917% Val_Loss: 0.02476142905652523 Val_accuracy: 98.458336%\n",
      "Train Epoch: 10/20 Traing_Loss: 0.0035684474278241396 Traing_acc: 98.962502% Val_Loss: 0.032517798244953156 Val_accuracy: 98.425003%\n",
      "Train Epoch: 11/20 Traing_Loss: 0.006968451198190451 Traing_acc: 98.972916% Val_Loss: 0.023890815675258636 Val_accuracy: 98.341667%\n",
      "Train Epoch: 12/20 Traing_Loss: 0.016590408980846405 Traing_acc: 98.985420% Val_Loss: 0.059775181114673615 Val_accuracy: 97.875000%\n",
      "Train Epoch: 13/20 Traing_Loss: 0.018096569925546646 Traing_acc: 99.120834% Val_Loss: 0.0020066783763468266 Val_accuracy: 98.508331%\n",
      "Train Epoch: 14/20 Traing_Loss: 0.04619810730218887 Traing_acc: 99.164581% Val_Loss: 0.048780471086502075 Val_accuracy: 98.441666%\n",
      "Train Epoch: 15/20 Traing_Loss: 0.0631927028298378 Traing_acc: 99.077080% Val_Loss: 0.043136660009622574 Val_accuracy: 98.483330%\n",
      "Train Epoch: 16/20 Traing_Loss: 0.12278702110052109 Traing_acc: 99.054169% Val_Loss: 0.0012275188928470016 Val_accuracy: 98.191666%\n",
      "Train Epoch: 17/20 Traing_Loss: 0.001194198615849018 Traing_acc: 99.085419% Val_Loss: 0.0907832682132721 Val_accuracy: 98.533333%\n",
      "Train Epoch: 18/20 Traing_Loss: 0.07635466754436493 Traing_acc: 99.352081% Val_Loss: 0.06670527160167694 Val_accuracy: 98.283333%\n",
      "Train Epoch: 19/20 Traing_Loss: 0.06011166051030159 Traing_acc: 99.160416% Val_Loss: 0.024238204583525658 Val_accuracy: 98.175003%\n",
      "Train Epoch: 20/20 Traing_Loss: 0.00026527667068876326 Traing_acc: 99.183334% Val_Loss: 0.015697961673140526 Val_accuracy: 98.283333%\n"
     ]
    }
   ],
   "source": [
    "# Model fit\n",
    "training_loss, training_accuracy, validation_loss, validation_accuracy = fit_model(model, loss_func, optimizer, input_shape, num_epochs, train_loader, valid_loader)"
   ]
  },
  {
   "cell_type": "code",
   "execution_count": 7,
   "id": "8443b96c",
   "metadata": {},
   "outputs": [
    {
     "data": {
      "image/png": "[encoded data removed]",
      "text/plain": [
       "<Figure size 432x288 with 1 Axes>"
      ]
     },
     "metadata": {
      "needs_background": "light"
     },
     "output_type": "display_data"
    },
    {
     "data": {
      "image/png": "[encoded data removed]",
      "text/plain": [
       "<Figure size 432x288 with 1 Axes>"
      ]
     },
     "metadata": {
      "needs_background": "light"
     },
     "output_type": "display_data"
    }
   ],
   "source": [
    "# visualization\n",
    "plt.plot(range(num_epochs), training_loss, 'b-', label='Training_loss')\n",
    "plt.plot(range(num_epochs), validation_loss, 'g-', label='validation_loss')\n",
    "plt.title('Training & Validation loss')\n",
    "plt.xlabel('Number of epochs')\n",
    "plt.ylabel('Loss')\n",
    "plt.legend()\n",
    "plt.show()\n",
    "plt.plot(range(num_epochs), training_accuracy, 'b-', label='Training_accuracy')\n",
    "plt.plot(range(num_epochs), validation_accuracy, 'g-', label='Validation_accuracy')\n",
    "plt.title('Training & Validation accuracy')\n",
    "plt.xlabel('Number of epochs')\n",
    "plt.ylabel('Accuracy')\n",
    "plt.legend()\n",
    "plt.show()"
   ]
  },
  {
   "cell_type": "code",
   "execution_count": 8,
   "id": "dc0c6036",
   "metadata": {},
   "outputs": [],
   "source": [
    "# Predict testing data\n",
    "def predict_model(test_loader):\n",
    "    training_loss = []\n",
    "    training_accuracy = []\n",
    "    #evaluate model & store loss & acc / epoch\n",
    "    correct_test = 0\n",
    "    total_test = 0\n",
    "    for images, labels in test_loader:\n",
    "        # 1.Define variables\n",
    "        test = Variable(images.view(input_shape))\n",
    "        # 2.Forward propagation\n",
    "        outputs = model(test)\n",
    "        # 3.Calculate softmax and cross entropy loss\n",
    "        test_loss = loss_func(outputs, labels)\n",
    "        # 4.Get predictions from the maximum value\n",
    "        predicted = torch.max(outputs.data, 1)[1]\n",
    "        # 5.Total number of labels\n",
    "        total_test += len(labels)\n",
    "        # 6.Total correct predictions\n",
    "        correct_test += (predicted == labels).float().sum()\n",
    "    # Store test_acc\n",
    "    test_accuracy = 100 * correct_test / float(total_test)\n",
    "    return test_loss, test_accuracy"
   ]
  },
  {
   "cell_type": "code",
   "execution_count": 13,
   "id": "52e3c3e4",
   "metadata": {},
   "outputs": [
    {
     "name": "stdout",
     "output_type": "stream",
     "text": [
      "Accuracy:  tensor(98.4900)\n"
     ]
    }
   ],
   "source": [
    "test_loss, test_accuracy = predict_model(test_loader)\n",
    "print(\"Accuracy: \", test_accuracy)"
   ]
  }
 ],
 "metadata": {
  "kernelspec": {
   "display_name": "Python 3 (ipykernel)",
   "language": "python",
   "name": "python3"
  },
  "language_info": {
   "codemirror_mode": {
    "name": "ipython",
    "version": 3
   },
   "file_extension": ".py",
   "mimetype": "text/x-python",
   "name": "python",
   "nbconvert_exporter": "python",
   "pygments_lexer": "ipython3",
   "version": "3.7.11"
  }
 },
 "nbformat": 4,
 "nbformat_minor": 5
}
